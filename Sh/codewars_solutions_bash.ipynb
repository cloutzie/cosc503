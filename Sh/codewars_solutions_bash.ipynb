{
 "cells": [
  {
   "attachments": {},
   "cell_type": "markdown",
   "metadata": {},
   "source": [
    "Author: LCpl Walker\n",
    "\n",
    "Init: 2023 03 29"
   ]
  },
  {
   "cell_type": "code",
   "execution_count": null,
   "metadata": {
    "vscode": {
     "languageId": "shellscript"
    }
   },
   "outputs": [],
   "source": [
    "# Character with longest consecutive repetition (6 kyu) (arnaud.charolais)\n",
    "# https://www.codewars.com/kata/586d6cefbcc21eed7a001155/train/shell\n",
    "\n",
    "#!/bin/bash\n",
    "# [ -z $1 ]             Check if string is empty\n",
    "# && echo \",0\"          If yes, return \",0\"\n",
    "# || echo $1            Else, echo the string to be changed through piping (|)\n",
    "# fold -w 1             After each batch of width=1, add a newline\n",
    "# uniq -c               Count each repetition (only adjacent lines, so we keep seperate repetitions like bbbaaabaaaa)\n",
    "# sort -r -s -k1,1      Sort in reverse (high first), -k1,1 only on the first line from uniq -c, -s disables last resort sorting\n",
    "# head -n 1             Keep only first line\n",
    "# sed -E 's/pat/rep/'   -E activates extended regex to avoid \\( and \\), then replace to get desired format\n",
    "\n",
    "[ -z $1 ] && echo \",0\" || echo $1 | fold -w 1 | uniq -c | sort -r -s -k1,1 | head -n 1 | sed -E 's/([0-9]) (.)/\\2,\\1/'"
   ]
  },
  {
   "cell_type": "code",
   "execution_count": null,
   "metadata": {
    "vscode": {
     "languageId": "shellscript"
    }
   },
   "outputs": [],
   "source": []
  }
 ],
 "metadata": {
  "kernelspec": {
   "display_name": "Bash",
   "language": "bash",
   "name": "bash"
  },
  "language_info": {
   "codemirror_mode": "shell",
   "file_extension": ".sh",
   "mimetype": "text/x-sh",
   "name": "bash"
  },
  "orig_nbformat": 4
 },
 "nbformat": 4,
 "nbformat_minor": 2
}
