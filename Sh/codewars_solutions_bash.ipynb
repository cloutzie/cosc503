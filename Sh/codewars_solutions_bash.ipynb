{
 "cells": [
  {
   "attachments": {},
   "cell_type": "markdown",
   "metadata": {},
   "source": [
    "Author: LCpl Walker\n",
    "\n",
    "Init: 2023 03 29"
   ]
  },
  {
   "cell_type": "code",
   "execution_count": null,
   "metadata": {
    "vscode": {
     "languageId": "shellscript"
    }
   },
   "outputs": [],
   "source": [
    "# Character with longest consecutive repetition (6 kyu) (arnaud.charolais)\n",
    "# https://www.codewars.com/kata/586d6cefbcc21eed7a001155/train/shell\n",
    "#!/bin/bash\n",
    "\n",
    "# [ -z $1 ]             Check if string is empty\n",
    "# && echo \",0\"          If yes, return \",0\"\n",
    "# || echo $1            Else, echo the string to be changed through piping (|)\n",
    "# fold -w 1             After each batch of width=1, add a newline\n",
    "# uniq -c               Count each repetition (only adjacent lines, so we keep seperate repetitions like bbbaaabaaaa)\n",
    "# sort -r -s -k1,1      Sort in reverse (high first), -k1,1 only on the first line from uniq -c, -s disables last resort sorting\n",
    "# head -n 1             Keep only first line\n",
    "# sed -E 's/pat/rep/'   -E activates extended regex to avoid \\( and \\), then replace to get desired format\n",
    "\n",
    "[ -z $1 ] && echo \",0\" || echo $1 | fold -w 1 | uniq -c | sort -r -s -k1,1 | head -n 1 | sed -E 's/([0-9]) (.)/\\2,\\1/'"
   ]
  },
  {
   "cell_type": "code",
   "execution_count": null,
   "metadata": {
    "vscode": {
     "languageId": "shellscript"
    }
   },
   "outputs": [],
   "source": [
    "# Playing with digits (6 kyu)\n",
    "# https://www.codewars.com/kata/5552101f47fc5178b1000050/train/shell\n",
    "#!/bin/bash\n",
    "\n",
    "dig_pow () {\n",
    "    str=$1\n",
    "    addr=0\n",
    "    exp=$2\n",
    "    for ((i=0; i<${#str}; i++));\n",
    "    do\n",
    "        addr=$(($addr + $((${str:$i:1}**$exp))))\n",
    "        exp=$(($exp + 1))\n",
    "    done\n",
    "    if [[ $(($addr % $str)) == 0 ]];\n",
    "    then\n",
    "        echo $(($addr / $str))\n",
    "    else\n",
    "        echo -1\n",
    "    fi\n",
    "}\n",
    "dig_pow \"$1\" \"$2\""
   ]
  },
  {
   "cell_type": "code",
   "execution_count": null,
   "metadata": {
    "vscode": {
     "languageId": "shellscript"
    }
   },
   "outputs": [],
   "source": [
    "# Multiples of 3 or 5 (6 kyu)\n",
    "# https://www.codewars.com/kata/514b92a657cdc65150000006/train/shell\n",
    "#!/bin/bash\n",
    "\n",
    "sum=0\n",
    "[ $1 -eq 0 ] && echo \"0\" || for i in `seq $i`; do if [[ $(($i % 15)) -eq 0 ]]; then sum=$(( $sum+$i )); elif [[ $(($i % 5)) -eq 0 ]] || [[ $(($i % 3)) -eq 0 ]]; then sum=$(( $sum+$i )); fi; done; echo $sum"
   ]
  },
  {
   "cell_type": "code",
   "execution_count": 212,
   "metadata": {
    "vscode": {
     "languageId": "shellscript"
    }
   },
   "outputs": [],
   "source": [
    "# Steps in Primes (6 kyu)\n",
    "# https://www.codewars.com/kata/5613d06cee1e7da6d5000055/train/shell\n",
    "\n",
    "step () {\n",
    "\n",
    "    limit=$1\n",
    "    sieve=\"$(seq 2 $limit|sort)\"\n",
    "\n",
    "    for n in 2 $(seq 3 2 $limit); do\n",
    "        sieve=\"$(comm -23 <(echo \"$sieve\") <(seq $(($n * $n)) $n $limit|sort))\"\n",
    "    done\n",
    "\n",
    "    prim=$(echo \"$sieve\"|sort -n)\n",
    "    declare -a parr\n",
    "\n",
    "    for n in $prim; do\n",
    "        parr+=($n)\n",
    "    done\n",
    "\n",
    "}\n",
    "\n",
    "# step $1 $2 $3\n",
    "step 50\n"
   ]
  }
 ],
 "metadata": {
  "kernelspec": {
   "display_name": "Bash",
   "language": "bash",
   "name": "bash"
  },
  "language_info": {
   "codemirror_mode": "shell",
   "file_extension": ".sh",
   "mimetype": "text/x-sh",
   "name": "bash"
  },
  "orig_nbformat": 4
 },
 "nbformat": 4,
 "nbformat_minor": 2
}
