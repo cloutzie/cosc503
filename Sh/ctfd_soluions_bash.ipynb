{
 "cells": [
  {
   "attachments": {},
   "cell_type": "markdown",
   "metadata": {},
   "source": [
    "Author: LCpl Walker\n",
    "\n",
    "Init: 2023 03 29"
   ]
  },
  {
   "cell_type": "code",
   "execution_count": null,
   "metadata": {
    "vscode": {
     "languageId": "shellscript"
    }
   },
   "outputs": [],
   "source": [
    "# 01 - BASH Activity \n",
    "\n",
    "mkdir $HOME/{1123,1134,1145,1156}"
   ]
  },
  {
   "cell_type": "code",
   "execution_count": null,
   "metadata": {
    "vscode": {
     "languageId": "shellscript"
    }
   },
   "outputs": [],
   "source": [
    "# 01.2 - BASH Activity \n",
    "\n",
    "touch $HOME/1123/{1..5}.txt $HOME/1123/{6..9}~.txt"
   ]
  },
  {
   "cell_type": "code",
   "execution_count": null,
   "metadata": {
    "vscode": {
     "languageId": "shellscript"
    }
   },
   "outputs": [],
   "source": [
    "# 01.3 - BASH Activity \n",
    "\n",
    "find $HOME/1123/*.txt"
   ]
  },
  {
   "cell_type": "code",
   "execution_count": null,
   "metadata": {
    "vscode": {
     "languageId": "shellscript"
    }
   },
   "outputs": [],
   "source": [
    "# 01.3 Challenge - BASH Activity \n",
    "\n",
    "find $HOME/1123/*.txt ! -name '*~*'"
   ]
  },
  {
   "cell_type": "code",
   "execution_count": null,
   "metadata": {
    "vscode": {
     "languageId": "shellscript"
    }
   },
   "outputs": [],
   "source": [
    "# 02 - BASH Activity \n",
    "\n",
    "find $HOME/1123/*.txt ! -name '*~*' -exec cp \"{}\" $HOME/CUT \\;"
   ]
  },
  {
   "cell_type": "code",
   "execution_count": null,
   "metadata": {
    "vscode": {
     "languageId": "shellscript"
    }
   },
   "outputs": [],
   "source": [
    "# 03 - BASH Activity \n",
    "\n",
    "find /var -empty -printf \"%i %f\\n\""
   ]
  },
  {
   "cell_type": "code",
   "execution_count": null,
   "metadata": {
    "vscode": {
     "languageId": "shellscript"
    }
   },
   "outputs": [],
   "source": [
    "# 04 - BASH Activity \n",
    "\n",
    "find / -inum 4026532575 -printf \"%f\\n\""
   ]
  },
  {
   "cell_type": "code",
   "execution_count": null,
   "metadata": {
    "vscode": {
     "languageId": "shellscript"
    }
   },
   "outputs": [],
   "source": [
    "# 05 - BASH Activity \n",
    "\n",
    "ls -l $HOME/CUT | cut -d. -f1-2 -s | cut -d: -f2 | cut -d\" \" -f2 > $HOME/CUT/names"
   ]
  },
  {
   "cell_type": "code",
   "execution_count": null,
   "metadata": {
    "vscode": {
     "languageId": "shellscript"
    }
   },
   "outputs": [],
   "source": [
    "# 06 - BASH Activity \n",
    "\n",
    "egrep -o '[0-9]{0,3}\\.[0-9]{0,3}\\.[0-9]{0,3}\\.[0-9]{0,3}' StoryHiddenIPs | sort -n | uniq -c | sort -r"
   ]
  },
  {
   "cell_type": "code",
   "execution_count": null,
   "metadata": {
    "vscode": {
     "languageId": "shellscript"
    }
   },
   "outputs": [],
   "source": [
    "# 07 - BASH Activity\n",
    "\n",
    "awk -F: '($3>4&& $7==\"/bin/bash\") {print $1}' $HOME/passwd > $HOME/SED/names.txt"
   ]
  },
  {
   "cell_type": "code",
   "execution_count": null,
   "metadata": {
    "vscode": {
     "languageId": "shellscript"
    }
   },
   "outputs": [],
   "source": [
    "# 08 - BASH Activity \n",
    "\n",
    "dmesg | egrep \"CPU|BIOS\" | egrep  -vi \"usable|reserved\" | cut -d\"]\" -f2- | cut -d\" \" -f1-"
   ]
  },
  {
   "cell_type": "code",
   "execution_count": null,
   "metadata": {
    "vscode": {
     "languageId": "shellscript"
    }
   },
   "outputs": [],
   "source": [
    "# 09 - BASH Activity \n",
    "\n",
    "a=$(openssl passwd -1 -salt bad4u -quiet Password1234)\n",
    "cat $HOME/PASS/shadow.txt | awk -F: -v \"awk_var=$a\" 'BEGIN {OFS=\":\"} {$2=awk_var} {print}'"
   ]
  },
  {
   "cell_type": "code",
   "execution_count": null,
   "metadata": {
    "vscode": {
     "languageId": "shellscript"
    }
   },
   "outputs": [],
   "source": [
    "# 10 - BASH Activity \n",
    "\n",
    "sed '/\\/bin\\/sh/d' $HOME/passwd | sed '/\\/bin\\/false/d' > $HOME/PASS/passwd.txt"
   ]
  }
 ],
 "metadata": {
  "kernelspec": {
   "display_name": "Bash",
   "language": "bash",
   "name": "bash"
  },
  "language_info": {
   "name": "bash"
  },
  "orig_nbformat": 4
 },
 "nbformat": 4,
 "nbformat_minor": 2
}
