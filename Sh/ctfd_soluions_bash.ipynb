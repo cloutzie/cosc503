{
 "cells": [
  {
   "attachments": {},
   "cell_type": "markdown",
   "metadata": {},
   "source": [
    "Author: LCpl Walker\n",
    "\n",
    "Init: 2023 03 29"
   ]
  },
  {
   "cell_type": "code",
   "execution_count": null,
   "metadata": {
    "vscode": {
     "languageId": "shellscript"
    }
   },
   "outputs": [],
   "source": [
    "# 01 - BASH Activity \n",
    "\n",
    "mkdir $HOME/{1123,1134,1145,1156}"
   ]
  },
  {
   "cell_type": "code",
   "execution_count": null,
   "metadata": {
    "vscode": {
     "languageId": "shellscript"
    }
   },
   "outputs": [],
   "source": [
    "# 01.2 - BASH Activity \n",
    "\n",
    "touch $HOME/1123/{1..5}.txt $HOME/1123/{6..9}~.txt"
   ]
  },
  {
   "cell_type": "code",
   "execution_count": null,
   "metadata": {
    "vscode": {
     "languageId": "shellscript"
    }
   },
   "outputs": [],
   "source": [
    "# 01.3 - BASH Activity \n",
    "\n",
    "find $HOME/1123/*.txt"
   ]
  },
  {
   "cell_type": "code",
   "execution_count": null,
   "metadata": {
    "vscode": {
     "languageId": "shellscript"
    }
   },
   "outputs": [],
   "source": [
    "# 01.3 Challenge - BASH Activity \n",
    "\n",
    "find $HOME/1123/*.txt ! -name '*~*'"
   ]
  },
  {
   "cell_type": "code",
   "execution_count": null,
   "metadata": {
    "vscode": {
     "languageId": "shellscript"
    }
   },
   "outputs": [],
   "source": [
    "# 02 - BASH Activity \n",
    "\n",
    "find $HOME/1123/*.txt ! -name '*~*' -exec cp \"{}\" $HOME/CUT \\;"
   ]
  },
  {
   "cell_type": "code",
   "execution_count": null,
   "metadata": {
    "vscode": {
     "languageId": "shellscript"
    }
   },
   "outputs": [],
   "source": [
    "# 03 - BASH Activity \n",
    "\n",
    "find /var -empty -printf \"%i %f\\n\""
   ]
  },
  {
   "cell_type": "code",
   "execution_count": null,
   "metadata": {
    "vscode": {
     "languageId": "shellscript"
    }
   },
   "outputs": [],
   "source": [
    "# 04 - BASH Activity \n",
    "\n",
    "find / -inum 4026532575 -printf \"%f\\n\""
   ]
  },
  {
   "cell_type": "code",
   "execution_count": null,
   "metadata": {
    "vscode": {
     "languageId": "shellscript"
    }
   },
   "outputs": [],
   "source": [
    "# 05 - BASH Activity \n",
    "\n",
    "ls -l $HOME/CUT | cut -d. -f1-2 -s | cut -d: -f2 | cut -d\" \" -f2 > $HOME/CUT/names"
   ]
  },
  {
   "cell_type": "code",
   "execution_count": null,
   "metadata": {
    "vscode": {
     "languageId": "shellscript"
    }
   },
   "outputs": [],
   "source": [
    "# 06 - BASH Activity \n",
    "\n",
    "egrep -o '[0-9]{0,3}\\.[0-9]{0,3}\\.[0-9]{0,3}\\.[0-9]{0,3}' StoryHiddenIPs | sort -n | uniq -c | sort -r"
   ]
  },
  {
   "cell_type": "code",
   "execution_count": null,
   "metadata": {
    "vscode": {
     "languageId": "shellscript"
    }
   },
   "outputs": [],
   "source": [
    "# 07 - BASH Activity\n",
    "\n",
    "awk -F: '($3>4&& $7==\"/bin/bash\") {print $1}' $HOME/passwd > $HOME/SED/names.txt"
   ]
  },
  {
   "cell_type": "code",
   "execution_count": null,
   "metadata": {
    "vscode": {
     "languageId": "shellscript"
    }
   },
   "outputs": [],
   "source": [
    "# 08 - BASH Activity \n",
    "\n",
    "dmesg | egrep \"CPU|BIOS\" | egrep  -vi \"usable|reserved\" | cut -d\"]\" -f2- | cut -d\" \" -f1-"
   ]
  },
  {
   "cell_type": "code",
   "execution_count": null,
   "metadata": {
    "vscode": {
     "languageId": "shellscript"
    }
   },
   "outputs": [],
   "source": [
    "# 09 - BASH Activity \n",
    "\n",
    "a=$(openssl passwd -1 -salt bad4u -quiet Password1234)\n",
    "cat $HOME/PASS/shadow.txt | awk -F: -v \"awk_var=$a\" 'BEGIN {OFS=\":\"} {$2=awk_var} {print}'"
   ]
  },
  {
   "cell_type": "code",
   "execution_count": null,
   "metadata": {
    "vscode": {
     "languageId": "shellscript"
    }
   },
   "outputs": [],
   "source": [
    "# 10 - BASH Activity \n",
    "\n",
    "sed '/\\/bin\\/sh/d' $HOME/passwd | sed '/\\/bin\\/false/d' > $HOME/PASS/passwd.txt"
   ]
  },
  {
   "cell_type": "code",
   "execution_count": null,
   "metadata": {
    "vscode": {
     "languageId": "shellscript"
    }
   },
   "outputs": [],
   "source": [
    "# 11 - BASH Activity \n",
    "\n",
    "find . -iname '*.bin' -printf '%f\\n'"
   ]
  },
  {
   "cell_type": "code",
   "execution_count": null,
   "metadata": {
    "vscode": {
     "languageId": "shellscript"
    }
   },
   "outputs": [],
   "source": [
    "# 12 - BASH Activity\n",
    "\n",
    "un=$2\n",
    "id=$3\n",
    "tail -1 $1 | awk -F: -v un1=$un -v id1=$id '{OFS=\":\"} {$1=un1; $3=id1; $4=id1; $6=\"/home/\"un1\"\"; $7=\"/bin/bash\"; print}' >> $1"
   ]
  },
  {
   "cell_type": "code",
   "execution_count": null,
   "metadata": {
    "vscode": {
     "languageId": "shellscript"
    }
   },
   "outputs": [],
   "source": [
    "# 13 - BASH Activity\n",
    "\n",
    "a=$(find /bin /sbin /usr/bin /usr/sbin -type f -executable | sort | sed -n '10p')\n",
    "md5=($(md5sum $a))\n",
    "echo $md5"
   ]
  },
  {
   "cell_type": "code",
   "execution_count": null,
   "metadata": {
    "vscode": {
     "languageId": "shellscript"
    }
   },
   "outputs": [],
   "source": [
    "# 14 - BASH Activity\n",
    "\n",
    "a=$(cat /etc/passwd | sort -n -t: -k 4 | sed -n '10p' | awk -F: '{OFS=\":\"} {print $6}')\n",
    "echo $a | md5sum | cut -d\" \" -f1"
   ]
  },
  {
   "cell_type": "code",
   "execution_count": null,
   "metadata": {
    "vscode": {
     "languageId": "shellscript"
    }
   },
   "outputs": [],
   "source": [
    "# 15 - BASH Activity\n",
    "\n",
    "for i in $(find /bin /etc /var -maxdepth 3 ! -type p 2>/dev/null); do md5sum $i 1>>goods.txt 2>>bads.txt; done\n",
    "fa=($(wc -l goods.txt))\n",
    "fb=($(egrep \"directory\" bads.txt | wc -l))\n",
    "echo \"Successfully Hashed Files: $fa\\nUnsuccessfully Hashed Directories: $fb\""
   ]
  },
  {
   "cell_type": "code",
   "execution_count": null,
   "metadata": {
    "vscode": {
     "languageId": "shellscript"
    }
   },
   "outputs": [],
   "source": [
    "# 16 - BASH Activity \n",
    "\n",
    "if [ -d $HOME/.ssh ]; then cp -r \"$HOME/.ssh\" \"$HOME/SSH\"; else echo \"Run ssh-keygen\"; fi"
   ]
  },
  {
   "cell_type": "code",
   "execution_count": null,
   "metadata": {
    "vscode": {
     "languageId": "shellscript"
    }
   },
   "outputs": [],
   "source": [
    "# 17 - BASH Activity \n",
    "\n",
    "A=$(ip route | head -1 | awk -F\" \" '{print $3}')\n",
    "B=$(which ping)\n",
    "C=$($B -c 6 $A)\n",
    "`echo $C`\n",
    "if [[ $C =~ 100% ]]; then\n",
    "    echo \"failure\";\n",
    "else\n",
    "    echo \"successful\";\n",
    "fi"
   ]
  },
  {
   "cell_type": "code",
   "execution_count": null,
   "metadata": {
    "vscode": {
     "languageId": "shellscript"
    }
   },
   "outputs": [],
   "source": [
    "# 18 - BASH Activity \n",
    "\n",
    "mkdir $HOME/zip\n",
    "mkdir $HOME/ZIP\n",
    "touch $HOME/zip/file{1..3}\n",
    "echo 12345 | md5sum | awk -F\" \" '{print $1}' >> $HOME/zip/file1\n",
    "echo 6789 | md5sum | awk -F\" \" '{print $1}'  >> $HOME/zip/file2\n",
    "echo abcdef | md5sum | awk -F\" \" '{print $1}' >> $HOME/zip/file3\n",
    "\n",
    "zip -j -r $HOME/ZIP/file.zip $HOME/zip/file{1..3}\n",
    "cd $HOME/ZIP\n",
    "tar -czvf $HOME/ZIP/file.tar.gz file.zip"
   ]
  },
  {
   "cell_type": "code",
   "execution_count": null,
   "metadata": {
    "vscode": {
     "languageId": "shellscript"
    }
   },
   "outputs": [],
   "source": [
    "# 19 - BASH Activity \n",
    "\n",
    "users=(\"LARRY\" \"CURLY\" \"MOE\")\n",
    "for n in $users; do\n",
    "    mkdir $HOME/$n\n",
    "    ffid=$(cat $HOME/${n}.txt)\n",
    "    echo $(echo $n):x:$(echo $ffid):$(echo $ffid):root:$(echo '$HOME'/$n):$(echo '/bin/bash')\n",
    "done"
   ]
  },
  {
   "cell_type": "code",
   "execution_count": null,
   "metadata": {
    "vscode": {
     "languageId": "shellscript"
    }
   },
   "outputs": [],
   "source": [
    "# 20 - BASH Activity\n",
    "\n",
    "fin=$(find /etc -type f)\n",
    "for i in $fin; do\n",
    "\n",
    "    if [[ $(stat -c '%a' $i) -ge 642 ]]; then \n",
    "        echo $(stat -c '%a' $i) >> high.txt\n",
    "    elif [[ $(stat -c '%a' $i) -le 640 ]]; then \n",
    "        echo $(stat -c '%a' $i) >> low.txt\n",
    "    fi\n",
    "done\n",
    "\n",
    "echo \"Files w/ OCTAL Perm Values 642+:\"\n",
    "cat high.txt | sort -n | uniq -c | sort -nr\n",
    "echo\n",
    "echo \"Files w/ OCTAL Perm Values 0-640:\"\n",
    "cat low.txt | sort -n | uniq -c | sort -nr"
   ]
  }
 ],
 "metadata": {
  "kernelspec": {
   "display_name": "Bash",
   "language": "bash",
   "name": "bash"
  },
  "language_info": {
   "codemirror_mode": "shell",
   "file_extension": ".sh",
   "mimetype": "text/x-sh",
   "name": "bash"
  },
  "orig_nbformat": 4
 },
 "nbformat": 4,
 "nbformat_minor": 2
}
