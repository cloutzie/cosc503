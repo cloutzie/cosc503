{
 "cells": [
  {
   "attachments": {},
   "cell_type": "markdown",
   "metadata": {},
   "source": [
    "Author: Michael Walker\n",
    "\n",
    "Desc: Compilation of solutions for codewars.com\n",
    "\n",
    "Init: 2023 03 24"
   ]
  },
  {
   "cell_type": "code",
   "execution_count": 1,
   "metadata": {},
   "outputs": [
    {
     "data": {
      "text/plain": [
       "[1, 3]"
      ]
     },
     "execution_count": 1,
     "metadata": {},
     "output_type": "execute_result"
    }
   ],
   "source": [
    "# Array.diff (6 kyu)\n",
    "# https://www.codewars.com/kata/523f5d21c841566fde000009/train/python\n",
    "\n",
    "def array_diff(a, b):\n",
    "\n",
    "    return [i for i in a if i not in b]"
   ]
  },
  {
   "cell_type": "code",
   "execution_count": null,
   "metadata": {},
   "outputs": [],
   "source": [
    "# Jaden Casing Strings (7 kyu)\n",
    "# https://www.codewars.com/kata/5390bac347d09b7da40006f6/train/python\n",
    "\n",
    "def to_jaden_case(string):\n",
    "\n",
    "    return \" \".join([i.capitalize() for i in string.split()])"
   ]
  },
  {
   "cell_type": "code",
   "execution_count": null,
   "metadata": {},
   "outputs": [],
   "source": [
    "# Detect Pangram (6 kyu)\n",
    "# https://www.codewars.com/kata/545cedaa9943f7fe7b000048/train/python\n",
    "\n",
    "def is_pangram(s):\n",
    "\n",
    "    abc = \"abcdefghijklmnopqrstuvwxyz\"\n",
    "    flag = True\n",
    "\n",
    "    for i in abc:\n",
    "        if i not in s.lower():\n",
    "            flag = False\n",
    "    \n",
    "    return flag"
   ]
  },
  {
   "cell_type": "code",
   "execution_count": null,
   "metadata": {},
   "outputs": [],
   "source": [
    "# Take a Ten Minutes Walk (6 kyu)\n",
    "# https://www.codewars.com/kata/54da539698b8a2ad76000228/train/python\n",
    "\n",
    "def is_valid_walk(walk):\n",
    "\n",
    "    if len(walk) != 10:\n",
    "        return False\n",
    "    else:\n",
    "        y = walk.count(\"n\") - walk.count(\"s\")\n",
    "        x = walk.count(\"e\") - walk.count(\"w\")\n",
    "    \n",
    "    if x != 0 or y != 0:\n",
    "        return False\n",
    "    else:\n",
    "        return True"
   ]
  },
  {
   "cell_type": "code",
   "execution_count": null,
   "metadata": {},
   "outputs": [],
   "source": [
    "# Character with longest consecutive repetition (6 kyu)\n",
    "# https://www.codewars.com/kata/586d6cefbcc21eed7a001155\n",
    "\n",
    "def longest_repetition(chars):\n",
    "    for i in chars"
   ]
  }
 ],
 "metadata": {
  "kernelspec": {
   "display_name": "Python 3",
   "language": "python",
   "name": "python3"
  },
  "language_info": {
   "codemirror_mode": {
    "name": "ipython",
    "version": 3
   },
   "file_extension": ".py",
   "mimetype": "text/x-python",
   "name": "python",
   "nbconvert_exporter": "python",
   "pygments_lexer": "ipython3",
   "version": "3.8.10"
  },
  "orig_nbformat": 4
 },
 "nbformat": 4,
 "nbformat_minor": 2
}
