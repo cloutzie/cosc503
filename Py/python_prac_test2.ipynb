{
 "cells": [
  {
   "attachments": {},
   "cell_type": "markdown",
   "metadata": {},
   "source": [
    "Python Practice 2"
   ]
  },
  {
   "cell_type": "code",
   "execution_count": null,
   "metadata": {},
   "outputs": [],
   "source": [
    "# 1\n",
    "\n",
    "def q1(sentence):\n",
    "    return \" \".join(sentence.split()[::-1])"
   ]
  },
  {
   "cell_type": "code",
   "execution_count": 9,
   "metadata": {},
   "outputs": [
    {
     "data": {
      "text/plain": [
       "'46,637,375'"
      ]
     },
     "execution_count": 9,
     "metadata": {},
     "output_type": "execute_result"
    }
   ],
   "source": [
    "# 2\n",
    "\n",
    "def q1(n):\n",
    "    return f\"{n:,d}\""
   ]
  },
  {
   "cell_type": "code",
   "execution_count": 19,
   "metadata": {},
   "outputs": [
    {
     "data": {
      "text/plain": [
       "[7, 5, 4, 3, 2, 1]"
      ]
     },
     "execution_count": 19,
     "metadata": {},
     "output_type": "execute_result"
    }
   ],
   "source": [
    "# 3\n",
    "\n",
    "def q1(lst0, lst1):\n",
    "    return sorted(lst0 + lst1, reverse = True)"
   ]
  },
  {
   "cell_type": "code",
   "execution_count": null,
   "metadata": {},
   "outputs": [],
   "source": [
    "# 4\n",
    "\n",
    "def q1(s1,s2,s3):\n",
    "\n",
    "    if ((s1 + s2 + s3) / 2) > 50:\n",
    "        return 'GO'\n",
    "    else:\n",
    "        return 'NOGO'"
   ]
  },
  {
   "cell_type": "code",
   "execution_count": null,
   "metadata": {},
   "outputs": [],
   "source": [
    "# 5\n",
    "\n",
    "def q1(integer, limit):\n",
    "    return [i for i in range(limit+1) if (i % integer == 0) and (i % 2 == 0)]"
   ]
  },
  {
   "cell_type": "code",
   "execution_count": null,
   "metadata": {},
   "outputs": [],
   "source": [
    "# 6\n",
    "\n",
    "def q1(f0, f1):\n",
    "    f0 = open(f0, \"r\")\n",
    "    f1 = open(f1, \"r\")\n",
    "    \n",
    "    f0l = f0.readlines()\n",
    "    f1l = f1.readlines()\n",
    "\n",
    "    linenum = []\n",
    "\n",
    "    for i in range(len(f0l)):\n",
    "        if f0l[i] not in f1l:\n",
    "            linenum.append(i)\n",
    "    for i in range(len(f1l)):\n",
    "        if f1l[i] not in f0l:\n",
    "            linenum.append(i)\n",
    "\n",
    "    return linenum"
   ]
  },
  {
   "cell_type": "code",
   "execution_count": 25,
   "metadata": {},
   "outputs": [],
   "source": [
    "# 7\n",
    "\n",
    "def q1(lst):\n",
    "    return ([x for x in lst if lst.count(x) > 1])[0]"
   ]
  },
  {
   "cell_type": "code",
   "execution_count": null,
   "metadata": {},
   "outputs": [],
   "source": [
    "# 8\n",
    "\n",
    "def q1(strng):\n",
    "    return min([len(x) for x in strng.split(\" \")])"
   ]
  },
  {
   "cell_type": "code",
   "execution_count": 35,
   "metadata": {},
   "outputs": [
    {
     "data": {
      "text/plain": [
       "'a'"
      ]
     },
     "execution_count": 35,
     "metadata": {},
     "output_type": "execute_result"
    }
   ],
   "source": [
    "# 9\n",
    "\n",
    "def q1(strng):\n",
    "    return chr(int(\"\".join([x for x in list(strng) if x.isdigit()])))"
   ]
  },
  {
   "cell_type": "code",
   "execution_count": 42,
   "metadata": {},
   "outputs": [
    {
     "data": {
      "text/plain": [
       "6"
      ]
     },
     "execution_count": 42,
     "metadata": {},
     "output_type": "execute_result"
    }
   ],
   "source": [
    "# 10\n",
    "\n",
    "def q1(arr):\n",
    "    return int(([arr[x] for x in range(len(arr)) if (arr[x-1] != arr[x] - 1) and x != 0])[0])"
   ]
  }
 ],
 "metadata": {
  "kernelspec": {
   "display_name": "Python 3",
   "language": "python",
   "name": "python3"
  },
  "language_info": {
   "codemirror_mode": {
    "name": "ipython",
    "version": 3
   },
   "file_extension": ".py",
   "mimetype": "text/x-python",
   "name": "python",
   "nbconvert_exporter": "python",
   "pygments_lexer": "ipython3",
   "version": "3.8.10"
  },
  "orig_nbformat": 4
 },
 "nbformat": 4,
 "nbformat_minor": 2
}
