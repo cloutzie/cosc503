{
 "cells": [
  {
   "attachments": {},
   "cell_type": "markdown",
   "metadata": {},
   "source": [
    "Author: LCPL Walker\n",
    "\n",
    "Desc: Compilation of solutions for CTFd challenges\n",
    "\n",
    "Init: 2023 03 20"
   ]
  },
  {
   "cell_type": "code",
   "execution_count": null,
   "metadata": {},
   "outputs": [],
   "source": [
    "# 01 - Python Activity \n",
    "\n",
    "hello = \"hello\"\n",
    "is_python_awesome = True\n",
    "days_in_python = 6\n",
    "pie_size = 3.14"
   ]
  },
  {
   "cell_type": "code",
   "execution_count": null,
   "metadata": {},
   "outputs": [],
   "source": [
    "# 02 - Python Activity \n",
    "\n",
    "int_input = int(\"345\")\n",
    "pi_4 = float(\"3.1415\")\n",
    "hours_str = str(40)\n",
    "hourly_rate = float(15)"
   ]
  },
  {
   "cell_type": "code",
   "execution_count": null,
   "metadata": {},
   "outputs": [],
   "source": [
    "# 03 - Python Activity\n",
    "\n",
    "x = int(16)\n",
    "y = int(3)\n",
    "xysum = int(x + y)\n",
    "xydiff = int(x - y)\n",
    "xyprod = int(x * y)\n",
    "xyquo = float(x / y)\n",
    "xyintquo = int(x // y)\n",
    "xymod = int(x % y)"
   ]
  },
  {
   "cell_type": "code",
   "execution_count": null,
   "metadata": {},
   "outputs": [],
   "source": [
    "# 04 - Python Activity \n",
    "\n",
    "name = \"Jerry\"\n",
    "greeting = \"Sir\"\n",
    "time = \"noon\"\n",
    "output = \"Hello {}! {}, will you be arriving by {}?\".format(name, greeting, time)"
   ]
  },
  {
   "cell_type": "code",
   "execution_count": null,
   "metadata": {},
   "outputs": [],
   "source": [
    "# 05 - Python Activity \n",
    "\n",
    "sentence = \"good for all\"\n",
    "sent_list = list(sentence)\n",
    "sent_list[0] = 'f'\n",
    "sent_list[-1] = '?'\n",
    "output = \".\".join(sent_list)"
   ]
  },
  {
   "cell_type": "code",
   "execution_count": null,
   "metadata": {},
   "outputs": [],
   "source": [
    "# 00 - Mailbox Maintenance \n",
    "\n",
    "email = email.replace(\"@\", \".\")\n",
    "lst = email.split(\".\")"
   ]
  },
  {
   "cell_type": "code",
   "execution_count": null,
   "metadata": {},
   "outputs": [],
   "source": [
    "# 06 - Python Activity \n",
    "\n",
    "num = input()\n",
    "num = num.replace(\" \", \"+\")\n",
    "print(num)"
   ]
  },
  {
   "cell_type": "code",
   "execution_count": null,
   "metadata": {},
   "outputs": [],
   "source": [
    "# 07 - Python Activity \n",
    "\n",
    "x = int(input(\"\"))\n",
    "\n",
    "if (x < 0) and (x % 2 == 0):\n",
    "    print(\"Negative Even\")\n",
    "elif (x < 0) and (x % 2 != 0):\n",
    "    print(\"Negative Odd\")\n",
    "elif x == 0:\n",
    "    print(\"Zero\")\n",
    "elif (x > 0) and (x % 2 == 0):\n",
    "    print(\"Positive Even\")\n",
    "elif (x > 0) and (x % 2 != 0):\n",
    "    print(\"Positive Odd\")"
   ]
  },
  {
   "cell_type": "code",
   "execution_count": null,
   "metadata": {},
   "outputs": [],
   "source": [
    "# 00A - Fizz Buzz \n",
    "\n",
    "x = int(input(\"Num\"))\n",
    "if (x % 3 != 0) and (x % 5 != 0):\n",
    "    print(x)\n",
    "elif (x % 3 == 0) and (x % 5 == 0):\n",
    "    print(\"fizzbuzz\")\n",
    "    \n",
    "elif x % 3 == 0:\n",
    "    print(\"fizz\")\n",
    "elif x % 5 == 0:\n",
    "    print(\"buzz\")"
   ]
  },
  {
   "cell_type": "code",
   "execution_count": null,
   "metadata": {},
   "outputs": [],
   "source": [
    "# 08 - Python Activity \n",
    "\n",
    "def domath(x, y, z):\n",
    "    a = (x + y) * z\n",
    "    return a"
   ]
  },
  {
   "cell_type": "code",
   "execution_count": null,
   "metadata": {},
   "outputs": [],
   "source": [
    "# 09 - Python Activity \n",
    "\n",
    "def reverseit():\n",
    "    flag = False\n",
    "    xlist = []\n",
    "    \n",
    "    while flag != True:\n",
    "        inp = str(input())\n",
    "        if inp == \"\":\n",
    "            flag = True\n",
    "            return xlist\n",
    "        else:\n",
    "            inp = inp[::-1]\n",
    "            xlist.append(inp)\n",
    "            \n",
    "    pass"
   ]
  },
  {
   "cell_type": "code",
   "execution_count": null,
   "metadata": {},
   "outputs": [],
   "source": [
    "# 00B - Guess Number \n",
    "\n",
    "def guess_number(n):\n",
    "    flag = False\n",
    "    while flag != True:\n",
    "        guess = int(input(\"\"))\n",
    "        if guess == n:\n",
    "            print(\"WIN\")\n",
    "            return\n",
    "        elif guess < n:\n",
    "            print(\"too low\")\n",
    "        elif guess > n:\n",
    "            print(\"too high\")\n",
    "\n",
    "        pass\n",
    "\n",
    "guess_number(23)"
   ]
  },
  {
   "cell_type": "code",
   "execution_count": null,
   "metadata": {},
   "outputs": [],
   "source": [
    "# 10 - Python Activity\n",
    "\n",
    "def leetString(s):\n",
    "    ts = s\n",
    "    slist = list(s)\n",
    "    for i in range(len(ts)):\n",
    "        if i % 2 == 0:\n",
    "            slist[i] = slist[i].upper()\n",
    "        elif i % 2 != 0:\n",
    "            slist[i] = slist[i].lower()\n",
    "    pass \n",
    "    x = \"\".join(slist)\n",
    "    return(x)"
   ]
  },
  {
   "cell_type": "code",
   "execution_count": null,
   "metadata": {},
   "outputs": [],
   "source": [
    "# 11 - Python Activity \n",
    "\n",
    "def evensandodds(first, last):\n",
    "\n",
    "    for i in list(range(first, last+1)):\n",
    "        if i % 2 == 0:\n",
    "            print(i)\n",
    "            continue\n",
    "    for i in list(range(first, last+1)):\n",
    "        if i % 2 != 0:\n",
    "            print(i)"
   ]
  },
  {
   "cell_type": "code",
   "execution_count": null,
   "metadata": {},
   "outputs": [],
   "source": [
    "# 12 - Python Activity \n",
    "\n",
    "def user_io():\n",
    "    flag = False\n",
    "    txtlist = []\n",
    "    while flag != True:\n",
    "        inp = str(input(\"\"))\n",
    "        if inp != \"\":\n",
    "            txtlist.append(inp)\n",
    "        else:\n",
    "            print(txtlist)\n",
    "            return(txtlist)\n",
    "    pass"
   ]
  },
  {
   "cell_type": "code",
   "execution_count": 1,
   "metadata": {},
   "outputs": [
    {
     "data": {
      "text/plain": [
       "(10, 20, 30, 40, 50, 60, 70, 80, 90, 100)"
      ]
     },
     "execution_count": 1,
     "metadata": {},
     "output_type": "execute_result"
    }
   ],
   "source": [
    "# 13 - Python Activity\n",
    "\n",
    "def make_tuple():\n",
    "    return (10, 20, 30, 40, 50, 60, 70, 80, 90, 100)\n"
   ]
  },
  {
   "cell_type": "code",
   "execution_count": 7,
   "metadata": {},
   "outputs": [
    {
     "data": {
      "text/plain": [
       "(50, 60, 70, 80, 90, 100)"
      ]
     },
     "execution_count": 7,
     "metadata": {},
     "output_type": "execute_result"
    }
   ],
   "source": [
    "# 13-1 - Python Activity\n",
    "\n",
    "def make_tuple(a,b):\n",
    "    return tuple([x for x in range(a,b+1) if (x % 10 == 0)])\n"
   ]
  },
  {
   "cell_type": "code",
   "execution_count": null,
   "metadata": {},
   "outputs": [],
   "source": [
    "# 14 - Python Activity\n",
    "\n",
    "def strings():\n",
    "    return (\"\", \"Physics is the universe's operating system\")"
   ]
  },
  {
   "cell_type": "code",
   "execution_count": 14,
   "metadata": {},
   "outputs": [
    {
     "data": {
      "text/plain": [
       "([1, 2, 3, 4, 5], [6, 7, 8, 9, 10])"
      ]
     },
     "execution_count": 14,
     "metadata": {},
     "output_type": "execute_result"
    }
   ],
   "source": [
    "# 15 - Python Activity \n",
    "\n",
    "def disect(lst):\n",
    "\n",
    "    n = len(lst) // 2\n",
    "    tup1 = lst[:n]\n",
    "    tup2 = lst[n:]\n",
    "    return (tup1, tup2)"
   ]
  },
  {
   "cell_type": "code",
   "execution_count": null,
   "metadata": {},
   "outputs": [],
   "source": [
    "# 16 - Python Activity \n",
    "\n",
    "def reverse_string(strng):\n",
    "\n",
    "    return strng[::-1]\n"
   ]
  },
  {
   "cell_type": "code",
   "execution_count": null,
   "metadata": {},
   "outputs": [],
   "source": [
    "# 17 - Python Activity \n",
    "\n",
    "def code_points(strng):\n",
    "    return [ord(x) for x in strng]\n"
   ]
  },
  {
   "cell_type": "code",
   "execution_count": null,
   "metadata": {},
   "outputs": [],
   "source": [
    "# 18 - Python Activity \n",
    "\n",
    "def linenums(inpath, outpath):\n",
    "\n",
    "    f = open(inpath, \"r\")\n",
    "\n",
    "    lines = f.readlines()\n",
    "\n",
    "    indlines = range(len(lines))\n",
    "\n",
    "    finlines = [ \n",
    "        str(i + 1) + \": \" + lines[i] for i in indlines\n",
    "    ]\n",
    "\n",
    "    f2 = open(outpath, \"w\")\n",
    "    outpath.writelines(finlines)\n",
    "\n",
    "\n",
    "\n",
    "    pass \n"
   ]
  },
  {
   "cell_type": "code",
   "execution_count": 17,
   "metadata": {},
   "outputs": [
    {
     "name": "stdout",
     "output_type": "stream",
     "text": [
      "['f', 'b', 'h', '3', 'w', 'n', 'h', '3', 'n', '3', 'n', '3']\n"
     ]
    }
   ],
   "source": []
  }
 ],
 "metadata": {
  "kernelspec": {
   "display_name": "Python 3",
   "language": "python",
   "name": "python3"
  },
  "language_info": {
   "codemirror_mode": {
    "name": "ipython",
    "version": 3
   },
   "file_extension": ".py",
   "mimetype": "text/x-python",
   "name": "python",
   "nbconvert_exporter": "python",
   "pygments_lexer": "ipython3",
   "version": "3.8.10"
  },
  "orig_nbformat": 4
 },
 "nbformat": 4,
 "nbformat_minor": 2
}
